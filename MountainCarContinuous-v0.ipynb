{
 "cells": [
  {
   "cell_type": "code",
   "execution_count": 1,
   "metadata": {},
   "outputs": [
    {
     "name": "stderr",
     "output_type": "stream",
     "text": [
      "Using TensorFlow backend.\n"
     ]
    },
    {
     "name": "stdout",
     "output_type": "stream",
     "text": [
      "Using ddpg_agent:0.0.3 at /Users/sam/ddpg_agent/ddpg_agent.\n"
     ]
    }
   ],
   "source": [
    "%reload_ext autoreload\n",
    "%autoreload 2\n",
    "\n",
    "import ddpg_agent, os\n",
    "from ddpg_agent.agent import DDPG\n",
    "from ddpg_agent.visualizations import create_animation\n",
    "\n",
    "print(\"Using ddpg_agent:%s at %s.\"%(\n",
    "    ddpg_agent.__version__, \n",
    "    os.path.dirname(ddpg_agent.__file__)))"
   ]
  },
  {
   "cell_type": "code",
   "execution_count": 2,
   "metadata": {},
   "outputs": [
    {
     "name": "stdout",
     "output_type": "stream",
     "text": [
      "Continuous action space: (-1.000 to 1.000)\n",
      "Reward range: (-inf, inf)\n",
      "Observation range, dimension 0: (-1.200 to 0.600)\n",
      "Observation range, dimension 1: (-0.070 to 0.070)\n"
     ]
    }
   ],
   "source": [
    "import gym\n",
    "import numpy as np\n",
    "import warnings\n",
    "\n",
    "warnings.simplefilter('ignore')\n",
    "\n",
    "env = gym.make('MountainCarContinuous-v0')\n",
    "print('Continuous action space: (%.3f to %.3f)'%(env.action_space.low, env.action_space.high))\n",
    "print('Reward range: %s'%(str(env.reward_range)))\n",
    "for i in range(len(env.observation_space.low)):\n",
    "    print('Observation range, dimension %i: (%.3f to %.3f)'%\n",
    "          (i,env.observation_space.low[i], env.observation_space.high[i]))"
   ]
  },
  {
   "cell_type": "code",
   "execution_count": 3,
   "metadata": {},
   "outputs": [
    {
     "name": "stdout",
     "output_type": "stream",
     "text": [
      "Actor model summary:\n",
      "_________________________________________________________________\n",
      "Layer (type)                 Output Shape              Param #   \n",
      "=================================================================\n",
      "states (InputLayer)          (None, 2)                 0         \n",
      "_________________________________________________________________\n",
      "dense_1 (Dense)              (None, 16)                48        \n",
      "_________________________________________________________________\n",
      "leaky_re_lu_1 (LeakyReLU)    (None, 16)                0         \n",
      "_________________________________________________________________\n",
      "dense_2 (Dense)              (None, 32)                544       \n",
      "_________________________________________________________________\n",
      "leaky_re_lu_2 (LeakyReLU)    (None, 32)                0         \n",
      "_________________________________________________________________\n",
      "dense_3 (Dense)              (None, 16)                528       \n",
      "_________________________________________________________________\n",
      "leaky_re_lu_3 (LeakyReLU)    (None, 16)                0         \n",
      "_________________________________________________________________\n",
      "raw_actions (Dense)          (None, 1)                 17        \n",
      "_________________________________________________________________\n",
      "actions (Lambda)             (None, 1)                 0         \n",
      "=================================================================\n",
      "Total params: 1,137\n",
      "Trainable params: 1,137\n",
      "Non-trainable params: 0\n",
      "_________________________________________________________________\n",
      "Critic model summary:\n",
      "__________________________________________________________________________________________________\n",
      "Layer (type)                    Output Shape         Param #     Connected to                     \n",
      "==================================================================================================\n",
      "states (InputLayer)             (None, 2)            0                                            \n",
      "__________________________________________________________________________________________________\n",
      "actions (InputLayer)            (None, 1)            0                                            \n",
      "__________________________________________________________________________________________________\n",
      "dense_7 (Dense)                 (None, 16)           48          states[0][0]                     \n",
      "__________________________________________________________________________________________________\n",
      "dense_9 (Dense)                 (None, 16)           32          actions[0][0]                    \n",
      "__________________________________________________________________________________________________\n",
      "leaky_re_lu_7 (LeakyReLU)       (None, 16)           0           dense_7[0][0]                    \n",
      "__________________________________________________________________________________________________\n",
      "leaky_re_lu_9 (LeakyReLU)       (None, 16)           0           dense_9[0][0]                    \n",
      "__________________________________________________________________________________________________\n",
      "dense_8 (Dense)                 (None, 32)           544         leaky_re_lu_7[0][0]              \n",
      "__________________________________________________________________________________________________\n",
      "dense_10 (Dense)                (None, 32)           544         leaky_re_lu_9[0][0]              \n",
      "__________________________________________________________________________________________________\n",
      "leaky_re_lu_8 (LeakyReLU)       (None, 32)           0           dense_8[0][0]                    \n",
      "__________________________________________________________________________________________________\n",
      "leaky_re_lu_10 (LeakyReLU)      (None, 32)           0           dense_10[0][0]                   \n",
      "__________________________________________________________________________________________________\n",
      "add_1 (Add)                     (None, 32)           0           leaky_re_lu_8[0][0]              \n",
      "                                                                 leaky_re_lu_10[0][0]             \n",
      "__________________________________________________________________________________________________\n",
      "leaky_re_lu_11 (LeakyReLU)      (None, 32)           0           add_1[0][0]                      \n",
      "__________________________________________________________________________________________________\n",
      "batch_normalization_1 (BatchNor (None, 32)           128         leaky_re_lu_11[0][0]             \n",
      "__________________________________________________________________________________________________\n",
      "q_values (Dense)                (None, 1)            33          batch_normalization_1[0][0]      \n",
      "==================================================================================================\n",
      "Total params: 1,329\n",
      "Trainable params: 1,265\n",
      "Non-trainable params: 64\n",
      "__________________________________________________________________________________________________\n",
      "Hyperparameters:\n",
      "{'train_during_episode': True, 'discount_factor': 0.999, 'tau_actor': 0.3, 'tau_critic': 0.1, 'lr_actor': 0.0001, 'lr_critic': 0.005, 'bn_momentum_actor': 0, 'bn_momentum_critic': 0.7, 'ou_mu': 0, 'ou_theta': 0.05, 'ou_sigma': 1, 'activation_fn_actor': 'tanh', 'replay_buffer_size': 10000, 'replay_batch_size': 1024, 'l2_reg_actor': 0.01, 'l2_reg_critic': 0.01, 'relu_alpha_actor': 0.01, 'relu_alpha_critic': 0.01, 'dropout_actor': 0, 'dropout_critic': 0, 'hidden_layer_sizes_actor': [16, 32, 16], 'hidden_layer_sizes_critic': [[16, 32], [16, 32]], 'input_bn_momentum_actor': 0, 'input_bn_momentum_critic': 0, 'activity_l1_reg': 0, 'activity_l2_reg': 0, 'output_action_regularizer': 0, 'output_action_variance_regularizer': 0, 'normalize_rewards': True}\n"
     ]
    }
   ],
   "source": [
    "agent = DDPG(env, train_during_episode=True, ou_mu=0, ou_theta=.05, ou_sigma=.25, \n",
    "             discount_factor=.999, replay_buffer_size=10000, replay_batch_size=1024,\n",
    "             tau_actor=.3, tau_critic=.1, \n",
    "             relu_alpha_actor=.01, relu_alpha_critic=.01,\n",
    "             lr_actor=.0001, lr_critic=.005, activation_fn_actor='tanh',\n",
    "             l2_reg_actor=.01, l2_reg_critic=.01, \n",
    "             bn_momentum_actor=0, bn_momentum_critic=.7,\n",
    "             hidden_layer_sizes_actor=[16,32,16], hidden_layer_sizes_critic=[[16,32],[16,32]],\n",
    "#              do_preprocessing=False, normalize_rewards=False,\n",
    "            )\n",
    "agent.print_summary()"
   ]
  },
  {
   "cell_type": "code",
   "execution_count": 4,
   "metadata": {},
   "outputs": [
    {
     "name": "stdout",
     "output_type": "stream",
     "text": [
      "Episode 1 - epsilon:     0.78, memory size: 200, num steps: 200, training score: -69.39, test score: -0.12\n",
      "Episode 2 - epsilon:     0.76, memory size: 280, num steps: 80, training score:  79.44, test score: -0.15\n",
      "Episode 3 - epsilon:     0.74, memory size: 385, num steps: 105, training score:  70.76, test score: -0.15\n",
      "Episode 4 - epsilon:     0.72, memory size: 477, num steps: 92, training score:  72.77, test score: -0.14\n",
      "Episode 5 - epsilon:      0.7, memory size: 588, num steps: 111, training score:  62.81, test score: -0.15\n",
      "Episode 6 - epsilon:     0.68, memory size: 642, num steps: 54, training score:  83.24, test score: -0.12\n",
      "Episode 7 - epsilon:     0.66, memory size: 720, num steps: 78, training score:  77.12, test score: -0.15\n",
      "Episode 8 - epsilon:     0.64, memory size: 754, num steps: 34, training score:  94.12, test score: -0.15\n",
      "Episode 9 - epsilon:     0.62, memory size: 853, num steps: 99, training score:  69.07, test score: -0.13\n",
      "Episode 10 - epsilon:      0.6, memory size: 894, num steps: 41, training score:  94.81, test score: -0.15\n",
      "Episode 11 - epsilon:     0.58, memory size: 1094, num steps: 200, training score: -61.56, test score: -0.06\n",
      "Episode 12 - epsilon:     0.56, memory size: 1185, num steps: 91, training score:  79.93, test score: -0.39\n",
      "Episode 13 - epsilon:     0.54, memory size: 1239, num steps: 54, training score:  90.66, test score: -0.92\n",
      "Episode 14 - epsilon:     0.52, memory size: 1393, num steps: 154, training score:  65.05, test score: -3.27\n",
      "Episode 15 - epsilon:      0.5, memory size: 1470, num steps: 77, training score:  88.39, test score: 96.17\n",
      "Episode 16 - epsilon:     0.48, memory size: 1659, num steps: 189, training score:  61.23, test score: 97.72\n",
      "Episode 17 - epsilon:     0.46, memory size: 1750, num steps: 91, training score:  69.48, test score: 96.69\n",
      "Episode 18 - epsilon:     0.44, memory size: 1774, num steps: 24, training score:  96.41, test score: 97.80\n",
      "Episode 19 - epsilon:     0.42, memory size: 1819, num steps: 45, training score:  90.72, test score: 97.49\n",
      "Episode 20 - epsilon:      0.4, memory size: 1968, num steps: 149, training score:  74.04, test score: 95.29\n",
      "Episode 21 - epsilon:     0.38, memory size: 1987, num steps: 19, training score:  95.77, test score: 94.93\n",
      "Episode 22 - epsilon:     0.36, memory size: 2018, num steps: 31, training score:  94.79, test score: 94.82\n",
      "Episode 23 - epsilon:     0.34, memory size: 2071, num steps: 53, training score:  80.69, test score: 96.81\n",
      "Episode 24 - epsilon:     0.32, memory size: 2124, num steps: 53, training score:  86.54, test score: 95.44\n",
      "Episode 25 - epsilon:      0.3, memory size: 2197, num steps: 73, training score:  86.85, test score: 96.46\n",
      "Episode 26 - epsilon:     0.28, memory size: 2228, num steps: 31, training score:  93.22, test score: 95.92\n",
      "Episode 27 - epsilon:     0.26, memory size: 2278, num steps: 50, training score:  89.51, test score: 96.28\n",
      "Episode 28 - epsilon:     0.24, memory size: 2302, num steps: 24, training score:  95.59, test score: 95.74\n",
      "Episode 29 - epsilon:     0.22, memory size: 2335, num steps: 33, training score:  95.13, test score: 97.36\n",
      "Episode 30 - epsilon:      0.2, memory size: 2408, num steps: 73, training score:  90.74, test score: 96.65\n",
      "Episode 31 - epsilon:     0.18, memory size: 2451, num steps: 43, training score:  93.61, test score: 95.86\n",
      "Episode 32 - epsilon:     0.16, memory size: 2503, num steps: 52, training score:  95.59, test score: 97.62\n",
      "Episode 33 - epsilon:     0.14, memory size: 2541, num steps: 38, training score:  97.15, test score: 96.05\n",
      "Episode 34 - epsilon:     0.12, memory size: 2572, num steps: 31, training score:  95.42, test score: 97.22\n",
      "Episode 35 - epsilon:      0.1, memory size: 2615, num steps: 43, training score:  94.40, test score: 97.64\n",
      "Episode 36 - epsilon:     0.08, memory size: 2646, num steps: 31, training score:  96.31, test score: 95.62\n",
      "Episode 37 - epsilon:     0.06, memory size: 2693, num steps: 47, training score:  97.22, test score: 97.06\n",
      "Episode 38 - epsilon:     0.04, memory size: 2738, num steps: 45, training score:  95.26, test score: 95.51\n",
      "Episode 39 - epsilon:     0.02, memory size: 2777, num steps: 39, training score:  96.24, test score: 96.58\n",
      "Episode 40 - epsilon:        0, memory size: 2818, num steps: 41, training score:  96.26, test score: 95.45\n",
      "Episode 41 - epsilon:        0, memory size: 2850, num steps: 32, training score:  95.04, test score: 96.10\n",
      "Episode 42 - epsilon:        0, memory size: 2881, num steps: 31, training score:  95.45, test score: 96.74\n",
      "Episode 43 - epsilon:        0, memory size: 2920, num steps: 39, training score:  95.12, test score: 96.97\n",
      "Episode 44 - epsilon:        0, memory size: 2945, num steps: 25, training score:  96.90, test score: 95.16\n",
      "Episode 45 - epsilon:        0, memory size: 2970, num steps: 25, training score:  96.71, test score: 94.84\n",
      "Episode 46 - epsilon:        0, memory size: 3001, num steps: 31, training score:  96.56, test score: 94.01\n",
      "Episode 47 - epsilon:        0, memory size: 3032, num steps: 31, training score:  93.85, test score: 94.71\n",
      "Episode 48 - epsilon:        0, memory size: 3058, num steps: 26, training score:  96.94, test score: 94.15\n",
      "Episode 49 - epsilon:        0, memory size: 3089, num steps: 31, training score:  95.83, test score: 93.37\n",
      "Episode 50 - epsilon:        0, memory size: 3132, num steps: 43, training score:  93.43, test score: 93.63\n"
     ]
    }
   ],
   "source": [
    "agent.train_n_episodes(50, eps=.8, eps_decay=1/50, action_repeat=5, \n",
    "                       run_tests=True, gen_q_a_frames_every_n_steps=10, )"
   ]
  },
  {
   "cell_type": "code",
   "execution_count": 5,
   "metadata": {},
   "outputs": [
    {
     "name": "stdout",
     "output_type": "stream",
     "text": [
      "Using ffmpeg at '/Users/sam/mlenv/lib/python3.6/site-packages/imageio_ffmpeg/binaries/ffmpeg-osx64-v4.1'.\n",
      "Video saved to training_animation_1564192863.mp4.\n"
     ]
    },
    {
     "data": {
      "text/html": [
       "<video alt=\"training animation\" controls loop autoplay>\n",
       "                        <source src=\"training_animation_1564192863.mp4\" type=\"video/mp4\" />\n",
       "                     </video>"
      ],
      "text/plain": [
       "<IPython.core.display.HTML object>"
      ]
     },
     "metadata": {},
     "output_type": "display_data"
    }
   ],
   "source": [
    "create_animation(agent, display_mode='video_file', every_n_steps=10, fps=15)"
   ]
  },
  {
   "cell_type": "code",
   "execution_count": null,
   "metadata": {},
   "outputs": [],
   "source": []
  }
 ],
 "metadata": {
  "kernelspec": {
   "display_name": "Python 3",
   "language": "python",
   "name": "python3"
  },
  "language_info": {
   "codemirror_mode": {
    "name": "ipython",
    "version": 3
   },
   "file_extension": ".py",
   "mimetype": "text/x-python",
   "name": "python",
   "nbconvert_exporter": "python",
   "pygments_lexer": "ipython3",
   "version": "3.6.4"
  }
 },
 "nbformat": 4,
 "nbformat_minor": 2
}
