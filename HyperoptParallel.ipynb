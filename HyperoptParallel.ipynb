{
 "cells": [
  {
   "cell_type": "code",
   "execution_count": null,
   "metadata": {},
   "outputs": [
    {
     "name": "stdout",
     "output_type": "stream",
     "text": [
      "102it [01:42,  1.01s/it, best loss: -98.51849262466092]      "
     ]
    }
   ],
   "source": [
    "from hyperopt import fmin, tpe, hp\n",
    "from hyperopt.mongoexp import MongoTrials\n",
    "import math\n",
    "\n",
    "from ddpg_agent.MountainCarEvaluator import evaluate_hyperparams\n",
    "\n",
    "trials = MongoTrials('mongo://localhost:27017/hyperopt/jobs', exp_key='mountaincar_trial_1')\n",
    "\n",
    "# space = hp.choice('activation_fn_actor',\n",
    "#     [\n",
    "# #         ('case 1', 1 + hp.lognormal('c1', 0, 1)),\n",
    "#         ('tanh', hp.uniform('', , ))\n",
    "#         ('sigmoid', hp.uniform('c2', -10, 10))\n",
    "#     ])\n",
    "space = (hp.uniform('eps',.5,1.5),hp.uniform('ou_theta',.005,.15))\n",
    "\n",
    "best = fmin(evaluate_hyperparams, space, trials=trials, algo=tpe.suggest, max_evals=25)\n",
    "\n",
    "print(best)\n"
   ]
  },
  {
   "cell_type": "code",
   "execution_count": 46,
   "metadata": {},
   "outputs": [
    {
     "data": {
      "text/plain": [
       "SON([('_id', ObjectId('5d1e590c1634c4b3b7432bd1')), ('state', 2), ('tid', 81), ('spec', None), ('result', SON([('loss', -98.18713613136522), ('status', 'ok')])), ('misc', SON([('tid', 81), ('cmd', ['domain_attachment', 'FMinIter_Domain']), ('workdir', None), ('idxs', SON([('eps', [81]), ('ou_theta', [81])])), ('vals', SON([('eps', [0.9467881511565576]), ('ou_theta', [0.010814861829577511])]))])), ('exp_key', 'mountaincar_trial_0'), ('owner', ['a5ad802499f7:4550']), ('version', 3), ('book_time', datetime.datetime(2019, 7, 4, 19, 52, 46, 116000)), ('refresh_time', datetime.datetime(2019, 7, 4, 19, 53, 15, 962000))])"
      ]
     },
     "execution_count": 46,
     "metadata": {},
     "output_type": "execute_result"
    }
   ],
   "source": [
    "trials.best_trial"
   ]
  },
  {
   "cell_type": "code",
   "execution_count": null,
   "metadata": {},
   "outputs": [],
   "source": []
  }
 ],
 "metadata": {
  "kernelspec": {
   "display_name": "Python 3",
   "language": "python",
   "name": "python3"
  },
  "language_info": {
   "codemirror_mode": {
    "name": "ipython",
    "version": 3
   },
   "file_extension": ".py",
   "mimetype": "text/x-python",
   "name": "python",
   "nbconvert_exporter": "python",
   "pygments_lexer": "ipython3",
   "version": "3.6.4"
  }
 },
 "nbformat": 4,
 "nbformat_minor": 2
}
