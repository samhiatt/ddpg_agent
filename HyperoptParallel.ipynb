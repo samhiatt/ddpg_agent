{
 "cells": [
  {
   "cell_type": "code",
   "execution_count": null,
   "metadata": {},
   "outputs": [
    {
     "name": "stderr",
     "output_type": "stream",
     "text": [
      "over-writing old domain trials attachment\n"
     ]
    },
    {
     "name": "stdout",
     "output_type": "stream",
     "text": [
      "67it [01:07,  1.01s/it, best loss: -56.33024386576488]                      \n"
     ]
    }
   ],
   "source": [
    "from collections import namedtuple\n",
    "from hyperopt import fmin, tpe, hp\n",
    "from hyperopt.mongoexp import MongoTrials\n",
    "\n",
    "from ddpg_agent.QuadcopterEvaluator import noise_evaluator, evaluator\n",
    "\n",
    "EXP_NUM=1\n",
    "\n",
    "trials = MongoTrials('mongo://localhost:27017/hyperopt/jobs', exp_key='quadcopter_noise_exp%3i'%EXP_NUM)\n",
    "\n",
    "noise_space = namedtuple('NoiseParams',['ou_mu','ou_theta','ou_sigma','n_episodes','eps'])(\n",
    "        0,\n",
    "        1,\n",
    "        hp.uniform('ou_sigma',0,.25),\n",
    "        100,\n",
    "        hp.uniform('eps',20,1000),\n",
    "    )\n",
    "\n",
    "best_noise = fmin(noise_evaluator, noise_space, trials=trials, algo=tpe.suggest, max_evals=5 )\n",
    "\n",
    "print(best_noise)\n",
    "\n",
    "# space = hp.choice('activation_fn_actor',\n",
    "#     [\n",
    "# #         ('case 1', 1 + hp.lognormal('c1', 0, 1)),\n",
    "#         ('tanh', hp.uniform('', , ))\n",
    "#         ('sigmoid', hp.uniform('c2', -10, 10))\n",
    "#     ])\n",
    "# space = (hp.uniform('eps',.5,1.5),hp.uniform('ou_theta',.005,.15))\n",
    "\n",
    "# best = fmin(evaluate_hyperparams, space, trials=trials, algo=tpe.suggest, max_evals=27 )\n",
    "\n",
    "# print(best)\n"
   ]
  },
  {
   "cell_type": "code",
   "execution_count": null,
   "metadata": {},
   "outputs": [],
   "source": [
    "trials.best_trial"
   ]
  },
  {
   "cell_type": "code",
   "execution_count": null,
   "metadata": {},
   "outputs": [],
   "source": []
  }
 ],
 "metadata": {
  "kernelspec": {
   "display_name": "Python 3",
   "language": "python",
   "name": "python3"
  },
  "language_info": {
   "codemirror_mode": {
    "name": "ipython",
    "version": 3
   },
   "file_extension": ".py",
   "mimetype": "text/x-python",
   "name": "python",
   "nbconvert_exporter": "python",
   "pygments_lexer": "ipython3",
   "version": "3.6.4"
  }
 },
 "nbformat": 4,
 "nbformat_minor": 2
}
