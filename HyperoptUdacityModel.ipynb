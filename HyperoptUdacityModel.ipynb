{
 "cells": [
  {
   "cell_type": "code",
   "execution_count": null,
   "metadata": {},
   "outputs": [
    {
     "name": "stderr",
     "output_type": "stream",
     "text": [
      "over-writing old domain trials attachment\n"
     ]
    },
    {
     "name": "stdout",
     "output_type": "stream",
     "text": [
      "Running experiment quadcopter_udacity_model_exp_006\n",
      "3693it [1:02:01,  1.00s/it, best loss: ?]                      "
     ]
    }
   ],
   "source": [
    "%reload_ext autoreload\n",
    "%autoreload 2\n",
    "\n",
    "# import git\n",
    "import json\n",
    "import numpy as np\n",
    "from collections import namedtuple\n",
    "from hyperopt import fmin, tpe, hp\n",
    "from hyperopt.mongoexp import MongoTrials\n",
    "\n",
    "from ddpg_agent.UdacityQuadcopterEvaluator import evaluator, UdacityDDPGLearningParams\n",
    "\n",
    "learning_params = UdacityDDPGLearningParams(\n",
    "    exploration_mu=0, \n",
    "    exploration_theta=hp.uniform('theta',0,1), \n",
    "    exploration_sigma=hp.uniform('sigma',.1,10), \n",
    "    n_episodes=500, n_training_courses=3,\n",
    "    gamma=hp.choice('gamma',[.5, .7, .99]), \n",
    "    buffer_size=100000, \n",
    "    batch_size=hp.choice('batch_size',[64,256,1024]),\n",
    "    tau=hp.uniform('tau',.01,.9),\n",
    ")\n",
    "\n",
    "# commit_sha = git.Repo().head.commit.hexsha[:8]\n",
    "# print(\"Running experiment quadcopter_learning_%s\"%commit_sha)\n",
    "# learning_trials = MongoTrials('mongo://localhost:27017/hyperopt/jobs', exp_key='quadcopter_learning_%s'%commit_sha)\n",
    "\n",
    "exp_name = \"quadcopter_udacity_model_exp_%03i\"%6\n",
    "print(\"Running experiment %s\"%exp_name)\n",
    "learning_trials = MongoTrials('mongo://localhost:27017/hyperopt/jobs', exp_key=exp_name)\n",
    "best_learning_params = fmin(evaluator, learning_params, trials=learning_trials, algo=tpe.suggest, max_evals=256)\n",
    "print(best_learning_params)"
   ]
  },
  {
   "cell_type": "code",
   "execution_count": 16,
   "metadata": {},
   "outputs": [],
   "source": [
    "# learning_trials.delete_all()"
   ]
  },
  {
   "cell_type": "code",
   "execution_count": null,
   "metadata": {},
   "outputs": [],
   "source": []
  }
 ],
 "metadata": {
  "kernelspec": {
   "display_name": "Python 3",
   "language": "python",
   "name": "python3"
  },
  "language_info": {
   "codemirror_mode": {
    "name": "ipython",
    "version": 3
   },
   "file_extension": ".py",
   "mimetype": "text/x-python",
   "name": "python",
   "nbconvert_exporter": "python",
   "pygments_lexer": "ipython3",
   "version": "3.6.4"
  }
 },
 "nbformat": 4,
 "nbformat_minor": 2
}
