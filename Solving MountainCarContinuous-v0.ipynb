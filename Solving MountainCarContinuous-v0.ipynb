{
 "cells": [
  {
   "cell_type": "code",
   "execution_count": 1,
   "metadata": {},
   "outputs": [
    {
     "name": "stderr",
     "output_type": "stream",
     "text": [
      "Using TensorFlow backend.\n"
     ]
    },
    {
     "name": "stdout",
     "output_type": "stream",
     "text": [
      "Using ddpg_agent:0.0.2 at /Users/sam/ddpg_agent/ddpg_agent.\n"
     ]
    }
   ],
   "source": [
    "%reload_ext autoreload\n",
    "%autoreload 2\n",
    "\n",
    "import ddpg_agent, os\n",
    "from ddpg_agent.agent import DDPG\n",
    "from ddpg_agent.visualizations import create_animation\n",
    "\n",
    "print(\"Using ddpg_agent:%s at %s.\"%(\n",
    "    ddpg_agent.__version__, \n",
    "    os.path.dirname(ddpg_agent.__file__)))"
   ]
  },
  {
   "cell_type": "code",
   "execution_count": 2,
   "metadata": {},
   "outputs": [
    {
     "name": "stdout",
     "output_type": "stream",
     "text": [
      "Continuous action space: (-1.000 to 1.000)\n",
      "Reward range: (-inf, inf)\n",
      "Observation range, dimension 0: (-1.200 to 0.600)\n",
      "Observation range, dimension 1: (-0.070 to 0.070)\n"
     ]
    }
   ],
   "source": [
    "import gym\n",
    "import numpy as np\n",
    "import warnings\n",
    "\n",
    "warnings.simplefilter('ignore')\n",
    "\n",
    "env = gym.make('MountainCarContinuous-v0')\n",
    "print('Continuous action space: (%.3f to %.3f)'%(env.action_space.low, env.action_space.high))\n",
    "print('Reward range: %s'%(str(env.reward_range)))\n",
    "for i in range(len(env.observation_space.low)):\n",
    "    print('Observation range, dimension %i: (%.3f to %.3f)'%\n",
    "          (i,env.observation_space.low[i], env.observation_space.high[i]))"
   ]
  },
  {
   "cell_type": "code",
   "execution_count": 3,
   "metadata": {},
   "outputs": [],
   "source": [
    "from ddpg_agent.agent import DDPG\n",
    "from ddpg_agent.visualizations import create_animation"
   ]
  },
  {
   "cell_type": "code",
   "execution_count": 4,
   "metadata": {},
   "outputs": [
    {
     "name": "stdout",
     "output_type": "stream",
     "text": [
      "Actor model summary:\n",
      "_________________________________________________________________\n",
      "Layer (type)                 Output Shape              Param #   \n",
      "=================================================================\n",
      "states (InputLayer)          (None, 2)                 0         \n",
      "_________________________________________________________________\n",
      "dense_1 (Dense)              (None, 16)                48        \n",
      "_________________________________________________________________\n",
      "leaky_re_lu_1 (LeakyReLU)    (None, 16)                0         \n",
      "_________________________________________________________________\n",
      "dense_2 (Dense)              (None, 32)                544       \n",
      "_________________________________________________________________\n",
      "leaky_re_lu_2 (LeakyReLU)    (None, 32)                0         \n",
      "_________________________________________________________________\n",
      "dense_3 (Dense)              (None, 16)                528       \n",
      "_________________________________________________________________\n",
      "leaky_re_lu_3 (LeakyReLU)    (None, 16)                0         \n",
      "_________________________________________________________________\n",
      "actions (Dense)              (None, 1)                 17        \n",
      "=================================================================\n",
      "Total params: 1,137\n",
      "Trainable params: 1,137\n",
      "Non-trainable params: 0\n",
      "_________________________________________________________________\n",
      "Critic model summary:\n",
      "__________________________________________________________________________________________________\n",
      "Layer (type)                    Output Shape         Param #     Connected to                     \n",
      "==================================================================================================\n",
      "states (InputLayer)             (None, 2)            0                                            \n",
      "__________________________________________________________________________________________________\n",
      "actions (InputLayer)            (None, 1)            0                                            \n",
      "__________________________________________________________________________________________________\n",
      "dense_7 (Dense)                 (None, 16)           48          states[0][0]                     \n",
      "__________________________________________________________________________________________________\n",
      "dense_9 (Dense)                 (None, 16)           32          actions[0][0]                    \n",
      "__________________________________________________________________________________________________\n",
      "leaky_re_lu_7 (LeakyReLU)       (None, 16)           0           dense_7[0][0]                    \n",
      "__________________________________________________________________________________________________\n",
      "leaky_re_lu_9 (LeakyReLU)       (None, 16)           0           dense_9[0][0]                    \n",
      "__________________________________________________________________________________________________\n",
      "dense_8 (Dense)                 (None, 32)           544         leaky_re_lu_7[0][0]              \n",
      "__________________________________________________________________________________________________\n",
      "dense_10 (Dense)                (None, 32)           544         leaky_re_lu_9[0][0]              \n",
      "__________________________________________________________________________________________________\n",
      "leaky_re_lu_8 (LeakyReLU)       (None, 32)           0           dense_8[0][0]                    \n",
      "__________________________________________________________________________________________________\n",
      "leaky_re_lu_10 (LeakyReLU)      (None, 32)           0           dense_10[0][0]                   \n",
      "__________________________________________________________________________________________________\n",
      "add_1 (Add)                     (None, 32)           0           leaky_re_lu_8[0][0]              \n",
      "                                                                 leaky_re_lu_10[0][0]             \n",
      "__________________________________________________________________________________________________\n",
      "leaky_re_lu_11 (LeakyReLU)      (None, 32)           0           add_1[0][0]                      \n",
      "__________________________________________________________________________________________________\n",
      "batch_normalization_1 (BatchNor (None, 32)           128         leaky_re_lu_11[0][0]             \n",
      "__________________________________________________________________________________________________\n",
      "q_values (Dense)                (None, 1)            33          batch_normalization_1[0][0]      \n",
      "==================================================================================================\n",
      "Total params: 1,329\n",
      "Trainable params: 1,265\n",
      "Non-trainable params: 64\n",
      "__________________________________________________________________________________________________\n",
      "Hyperparameters:\n",
      "{'train_during_episode': True, 'discount_factor': 0.999, 'tau_actor': 0.3, 'tau_critic': 0.1, 'lr_actor': 0.0001, 'lr_critic': 0.005, 'bn_momentum_actor': 0, 'bn_momentum_critic': 0.7, 'ou_mu': 0, 'ou_theta': 0.05, 'ou_sigma': 1, 'activation_fn_actor': 'tanh', 'replay_buffer_size': 10000, 'replay_batch_size': 1024, 'l2_reg_actor': 0.01, 'l2_reg_critic': 0.01, 'relu_alpha_actor': 0.01, 'relu_alpha_critic': 0.01, 'dropout_actor': 0, 'dropout_critic': 0, 'hidden_layer_sizes_actor': [16, 32, 16], 'hidden_layer_sizes_critic': [[16, 32], [16, 32]]}\n"
     ]
    }
   ],
   "source": [
    "agent = DDPG(env, train_during_episode=True, ou_mu=0, ou_theta=.05, ou_sigma=.25, \n",
    "             discount_factor=.999, replay_buffer_size=10000, replay_batch_size=1024,\n",
    "             tau_actor=.3, tau_critic=.1, \n",
    "             relu_alpha_actor=.01, relu_alpha_critic=.01,\n",
    "             lr_actor=.0001, lr_critic=.005, activation_fn_actor='tanh',\n",
    "             l2_reg_actor=.01, l2_reg_critic=.01, \n",
    "             bn_momentum_actor=0, bn_momentum_critic=.7,\n",
    "             hidden_layer_sizes_actor=[16,32,16], hidden_layer_sizes_critic=[[16,32],[16,32]], )\n",
    "agent.print_summary()"
   ]
  },
  {
   "cell_type": "code",
   "execution_count": 5,
   "metadata": {},
   "outputs": [
    {
     "name": "stdout",
     "output_type": "stream",
     "text": [
      "Episode 1 - epsilon: 0.98, memory size: 57, training score: 83.69, test score: -0.01\n",
      "Episode 2 - epsilon: 0.96, memory size: 171, training score: 80.90, test score: -0.00\n",
      "Episode 3 - epsilon: 0.94, memory size: 238, training score: 92.25, test score: -0.00\n",
      "Episode 4 - epsilon: 0.92, memory size: 364, training score: 74.51, test score: -0.01\n",
      "Episode 5 - epsilon: 0.90, memory size: 489, training score: 78.11, test score: -0.00\n",
      "Episode 6 - epsilon: 0.88, memory size: 538, training score: 92.33, test score: -0.01\n",
      "Episode 7 - epsilon: 0.86, memory size: 738, training score: -31.60, test score: -0.00\n",
      "Episode 8 - epsilon: 0.84, memory size: 770, training score: 95.85, test score: -0.01\n",
      "Episode 9 - epsilon: 0.82, memory size: 896, training score: 82.84, test score: -0.02\n",
      "Episode 10 - epsilon: 0.80, memory size: 1026, training score: 81.46, test score: -0.00\n",
      "Episode 11 - epsilon: 0.78, memory size: 1173, training score: 79.27, test score: -3.95\n",
      "Episode 12 - epsilon: 0.76, memory size: 1226, training score: 94.41, test score: -8.04\n",
      "Episode 13 - epsilon: 0.74, memory size: 1277, training score: 86.30, test score: -12.66\n",
      "Episode 14 - epsilon: 0.72, memory size: 1359, training score: 83.52, test score: 84.84\n",
      "Episode 15 - epsilon: 0.70, memory size: 1424, training score: 90.02, test score: 90.79\n",
      "Episode 16 - epsilon: 0.68, memory size: 1448, training score: 93.80, test score: 94.68\n",
      "Episode 17 - epsilon: 0.66, memory size: 1501, training score: 94.79, test score: 95.42\n",
      "Episode 18 - epsilon: 0.64, memory size: 1575, training score: 85.50, test score: 96.72\n",
      "Episode 19 - epsilon: 0.62, memory size: 1603, training score: 94.80, test score: 97.11\n",
      "Episode 20 - epsilon: 0.60, memory size: 1644, training score: 92.73, test score: 96.09\n",
      "Episode 21 - epsilon: 0.58, memory size: 1668, training score: 94.13, test score: 96.65\n",
      "Episode 22 - epsilon: 0.56, memory size: 1692, training score: 94.53, test score: 92.89\n",
      "Episode 23 - epsilon: 0.54, memory size: 1715, training score: 91.46, test score: 95.47\n",
      "Episode 24 - epsilon: 0.52, memory size: 1738, training score: 94.35, test score: 94.89\n",
      "Episode 25 - epsilon: 0.50, memory size: 1767, training score: 91.44, test score: 96.14\n",
      "Episode 26 - epsilon: 0.48, memory size: 1790, training score: 93.59, test score: 96.53\n",
      "Episode 27 - epsilon: 0.46, memory size: 1815, training score: 95.40, test score: 94.67\n",
      "Episode 28 - epsilon: 0.44, memory size: 1838, training score: 93.26, test score: 96.72\n",
      "Episode 29 - epsilon: 0.42, memory size: 1863, training score: 95.86, test score: 92.83\n",
      "Episode 30 - epsilon: 0.40, memory size: 1888, training score: 95.65, test score: 93.25\n",
      "Episode 31 - epsilon: 0.38, memory size: 1906, training score: 96.09, test score: 93.52\n",
      "Episode 32 - epsilon: 0.36, memory size: 1927, training score: 95.57, test score: 95.77\n",
      "Episode 33 - epsilon: 0.34, memory size: 1952, training score: 93.33, test score: 95.27\n",
      "Episode 34 - epsilon: 0.32, memory size: 1977, training score: 94.93, test score: 93.07\n",
      "Episode 35 - epsilon: 0.30, memory size: 2005, training score: 92.96, test score: 96.04\n",
      "Episode 36 - epsilon: 0.28, memory size: 2035, training score: 93.43, test score: 93.34\n",
      "Episode 37 - epsilon: 0.26, memory size: 2069, training score: 95.18, test score: 94.19\n",
      "Episode 38 - epsilon: 0.24, memory size: 2093, training score: 93.93, test score: 95.72\n",
      "Episode 39 - epsilon: 0.22, memory size: 2126, training score: 95.27, test score: 96.81\n",
      "Episode 40 - epsilon: 0.20, memory size: 2159, training score: 95.30, test score: 96.96\n",
      "Episode 41 - epsilon: 0.18, memory size: 2195, training score: 93.02, test score: 96.49\n",
      "Episode 42 - epsilon: 0.16, memory size: 2222, training score: 96.71, test score: 95.30\n",
      "Episode 43 - epsilon: 0.14, memory size: 2255, training score: 94.79, test score: 96.63\n",
      "Episode 44 - epsilon: 0.12, memory size: 2287, training score: 94.83, test score: 96.44\n",
      "Episode 45 - epsilon: 0.10, memory size: 2314, training score: 95.33, test score: 93.92\n",
      "Episode 46 - epsilon: 0.08, memory size: 2340, training score: 96.69, test score: 95.77\n",
      "Episode 47 - epsilon: 0.06, memory size: 2373, training score: 93.41, test score: 93.31\n",
      "Episode 48 - epsilon: 0.04, memory size: 2408, training score: 93.37, test score: 95.35\n",
      "Episode 49 - epsilon: 0.02, memory size: 2439, training score: 94.58, test score: 93.22\n",
      "Episode 50 - epsilon: 0.00, memory size: 2471, training score: 93.77, test score: 97.00\n"
     ]
    }
   ],
   "source": [
    "agent.train_n_episodes(50, eps=1, eps_decay=1/50, action_repeat=5, \n",
    "                       run_tests=True, gen_q_a_frames_every_n_steps=10, )"
   ]
  },
  {
   "cell_type": "code",
   "execution_count": 7,
   "metadata": {},
   "outputs": [
    {
     "name": "stdout",
     "output_type": "stream",
     "text": [
      "Using ffmpeg at '/Users/sam/mlenv/lib/python3.6/site-packages/imageio_ffmpeg/binaries/ffmpeg-osx64-v4.1'.\n",
      "Video saved to training_animation_1561324217.mp4.\n"
     ]
    },
    {
     "data": {
      "text/html": [
       "<video alt=\"training animation\" controls loop autoplay>\n",
       "                        <source src=\"training_animation_1561324217.mp4\" type=\"video/mp4\" />\n",
       "                     </video>"
      ],
      "text/plain": [
       "<IPython.core.display.HTML object>"
      ]
     },
     "metadata": {},
     "output_type": "display_data"
    }
   ],
   "source": [
    "create_animation(agent, display_mode='video_file', every_n_steps=10, fps=15)"
   ]
  },
  {
   "cell_type": "code",
   "execution_count": null,
   "metadata": {},
   "outputs": [],
   "source": []
  }
 ],
 "metadata": {
  "kernelspec": {
   "display_name": "Python 3",
   "language": "python",
   "name": "python3"
  },
  "language_info": {
   "codemirror_mode": {
    "name": "ipython",
    "version": 3
   },
   "file_extension": ".py",
   "mimetype": "text/x-python",
   "name": "python",
   "nbconvert_exporter": "python",
   "pygments_lexer": "ipython3",
   "version": "3.6.4"
  }
 },
 "nbformat": 4,
 "nbformat_minor": 2
}
