{
 "cells": [
  {
   "cell_type": "code",
   "execution_count": 1,
   "metadata": {},
   "outputs": [
    {
     "name": "stderr",
     "output_type": "stream",
     "text": [
      "Using TensorFlow backend.\n"
     ]
    },
    {
     "name": "stdout",
     "output_type": "stream",
     "text": [
      "Using ddpg_agent:0.0.3 at /Users/sam/ddpg_agent/ddpg_agent.\n"
     ]
    }
   ],
   "source": [
    "%reload_ext autoreload\n",
    "%autoreload 2\n",
    "\n",
    "import ddpg_agent, os\n",
    "from ddpg_agent.agent import DDPG\n",
    "from ddpg_agent.visualizations import create_animation\n",
    "\n",
    "print(\"Using ddpg_agent:%s at %s.\"%(\n",
    "    ddpg_agent.__version__, \n",
    "    os.path.dirname(ddpg_agent.__file__)))"
   ]
  },
  {
   "cell_type": "code",
   "execution_count": 2,
   "metadata": {},
   "outputs": [
    {
     "name": "stdout",
     "output_type": "stream",
     "text": [
      "Continuous action space: (-1.000 to 1.000)\n",
      "Reward range: (-inf, inf)\n",
      "Observation range, dimension 0: (-1.200 to 0.600)\n",
      "Observation range, dimension 1: (-0.070 to 0.070)\n"
     ]
    }
   ],
   "source": [
    "import gym\n",
    "import numpy as np\n",
    "import warnings\n",
    "\n",
    "warnings.simplefilter('ignore')\n",
    "\n",
    "env = gym.make('MountainCarContinuous-v0')\n",
    "print('Continuous action space: (%.3f to %.3f)'%(env.action_space.low, env.action_space.high))\n",
    "print('Reward range: %s'%(str(env.reward_range)))\n",
    "for i in range(len(env.observation_space.low)):\n",
    "    print('Observation range, dimension %i: (%.3f to %.3f)'%\n",
    "          (i,env.observation_space.low[i], env.observation_space.high[i]))"
   ]
  },
  {
   "cell_type": "code",
   "execution_count": 3,
   "metadata": {},
   "outputs": [],
   "source": [
    "from ddpg_agent.agent import DDPG\n",
    "from ddpg_agent.visualizations import create_animation"
   ]
  },
  {
   "cell_type": "code",
   "execution_count": 5,
   "metadata": {},
   "outputs": [
    {
     "name": "stdout",
     "output_type": "stream",
     "text": [
      "Actor model summary:\n",
      "_________________________________________________________________\n",
      "Layer (type)                 Output Shape              Param #   \n",
      "=================================================================\n",
      "states (InputLayer)          (None, 2)                 0         \n",
      "_________________________________________________________________\n",
      "dense_15 (Dense)             (None, 16)                48        \n",
      "_________________________________________________________________\n",
      "leaky_re_lu_17 (LeakyReLU)   (None, 16)                0         \n",
      "_________________________________________________________________\n",
      "dense_16 (Dense)             (None, 32)                544       \n",
      "_________________________________________________________________\n",
      "leaky_re_lu_18 (LeakyReLU)   (None, 32)                0         \n",
      "_________________________________________________________________\n",
      "dense_17 (Dense)             (None, 16)                528       \n",
      "_________________________________________________________________\n",
      "leaky_re_lu_19 (LeakyReLU)   (None, 16)                0         \n",
      "_________________________________________________________________\n",
      "raw_actions (Dense)          (None, 1)                 17        \n",
      "_________________________________________________________________\n",
      "actions (Lambda)             (None, 1)                 0         \n",
      "=================================================================\n",
      "Total params: 1,137\n",
      "Trainable params: 1,137\n",
      "Non-trainable params: 0\n",
      "_________________________________________________________________\n",
      "Critic model summary:\n",
      "__________________________________________________________________________________________________\n",
      "Layer (type)                    Output Shape         Param #     Connected to                     \n",
      "==================================================================================================\n",
      "states (InputLayer)             (None, 2)            0                                            \n",
      "__________________________________________________________________________________________________\n",
      "actions (InputLayer)            (None, 1)            0                                            \n",
      "__________________________________________________________________________________________________\n",
      "dense_21 (Dense)                (None, 16)           48          states[0][0]                     \n",
      "__________________________________________________________________________________________________\n",
      "dense_23 (Dense)                (None, 16)           32          actions[0][0]                    \n",
      "__________________________________________________________________________________________________\n",
      "leaky_re_lu_23 (LeakyReLU)      (None, 16)           0           dense_21[0][0]                   \n",
      "__________________________________________________________________________________________________\n",
      "leaky_re_lu_25 (LeakyReLU)      (None, 16)           0           dense_23[0][0]                   \n",
      "__________________________________________________________________________________________________\n",
      "dense_22 (Dense)                (None, 32)           544         leaky_re_lu_23[0][0]             \n",
      "__________________________________________________________________________________________________\n",
      "dense_24 (Dense)                (None, 32)           544         leaky_re_lu_25[0][0]             \n",
      "__________________________________________________________________________________________________\n",
      "leaky_re_lu_24 (LeakyReLU)      (None, 32)           0           dense_22[0][0]                   \n",
      "__________________________________________________________________________________________________\n",
      "leaky_re_lu_26 (LeakyReLU)      (None, 32)           0           dense_24[0][0]                   \n",
      "__________________________________________________________________________________________________\n",
      "add_3 (Add)                     (None, 32)           0           leaky_re_lu_24[0][0]             \n",
      "                                                                 leaky_re_lu_26[0][0]             \n",
      "__________________________________________________________________________________________________\n",
      "leaky_re_lu_27 (LeakyReLU)      (None, 32)           0           add_3[0][0]                      \n",
      "__________________________________________________________________________________________________\n",
      "batch_normalization_3 (BatchNor (None, 32)           128         leaky_re_lu_27[0][0]             \n",
      "__________________________________________________________________________________________________\n",
      "q_values (Dense)                (None, 1)            33          batch_normalization_3[0][0]      \n",
      "==================================================================================================\n",
      "Total params: 1,329\n",
      "Trainable params: 1,265\n",
      "Non-trainable params: 64\n",
      "__________________________________________________________________________________________________\n",
      "Hyperparameters:\n",
      "{'train_during_episode': True, 'discount_factor': 0.999, 'tau_actor': 0.3, 'tau_critic': 0.1, 'lr_actor': 0.0001, 'lr_critic': 0.005, 'bn_momentum_actor': 0, 'bn_momentum_critic': 0.7, 'ou_mu': 0, 'ou_theta': 0.05, 'ou_sigma': 1, 'activation_fn_actor': 'tanh', 'replay_buffer_size': 10000, 'replay_batch_size': 1024, 'l2_reg_actor': 0.01, 'l2_reg_critic': 0.01, 'relu_alpha_actor': 0.01, 'relu_alpha_critic': 0.01, 'dropout_actor': 0, 'dropout_critic': 0, 'hidden_layer_sizes_actor': [16, 32, 16], 'hidden_layer_sizes_critic': [[16, 32], [16, 32]]}\n"
     ]
    }
   ],
   "source": [
    "agent = DDPG(env, train_during_episode=True, ou_mu=0, ou_theta=.05, ou_sigma=.25, \n",
    "             discount_factor=.999, replay_buffer_size=10000, replay_batch_size=1024,\n",
    "             tau_actor=.3, tau_critic=.1, \n",
    "             relu_alpha_actor=.01, relu_alpha_critic=.01,\n",
    "             lr_actor=.0001, lr_critic=.005, activation_fn_actor='tanh',\n",
    "             l2_reg_actor=.01, l2_reg_critic=.01, \n",
    "             bn_momentum_actor=0, bn_momentum_critic=.7,\n",
    "             hidden_layer_sizes_actor=[16,32,16], hidden_layer_sizes_critic=[[16,32],[16,32]], )\n",
    "agent.print_summary()"
   ]
  },
  {
   "cell_type": "code",
   "execution_count": 6,
   "metadata": {},
   "outputs": [
    {
     "name": "stdout",
     "output_type": "stream",
     "text": [
      "Episode 1 - epsilon: 0.98, memory size: 57, num steps: 57, training score: 87.33, test score: -0.30\n",
      "Episode 2 - epsilon: 0.96, memory size: 77, num steps: 20, training score: 93.96, test score: -0.33\n",
      "Episode 3 - epsilon: 0.94, memory size: 119, num steps: 42, training score: 92.21, test score: -0.30\n",
      "Episode 4 - epsilon: 0.92, memory size: 160, num steps: 41, training score: 93.62, test score: -0.30\n",
      "Episode 5 - epsilon: 0.90, memory size: 228, num steps: 68, training score: 88.21, test score: -0.32\n",
      "Episode 6 - epsilon: 0.88, memory size: 428, num steps: 200, training score: -36.77, test score: -0.32\n",
      "Episode 7 - epsilon: 0.86, memory size: 628, num steps: 200, training score: -26.90, test score: -0.33\n",
      "Episode 8 - epsilon: 0.84, memory size: 667, num steps: 39, training score: 88.94, test score: -0.30\n",
      "Episode 9 - epsilon: 0.82, memory size: 867, num steps: 200, training score: -45.05, test score: -0.31\n",
      "Episode 10 - epsilon: 0.80, memory size: 917, num steps: 50, training score: 88.80, test score: -0.30\n",
      "Episode 11 - epsilon: 0.78, memory size: 1117, num steps: 200, training score: -27.27, test score: -0.04\n",
      "Episode 12 - epsilon: 0.76, memory size: 1197, num steps: 80, training score: 93.18, test score: -1.19\n",
      "Episode 13 - epsilon: 0.74, memory size: 1276, num steps: 79, training score: 87.03, test score: -4.27\n",
      "Episode 14 - epsilon: 0.72, memory size: 1319, num steps: 43, training score: 95.66, test score: -7.04\n",
      "Episode 15 - epsilon: 0.70, memory size: 1385, num steps: 66, training score: 90.11, test score: -10.20\n",
      "Episode 16 - epsilon: 0.68, memory size: 1438, num steps: 53, training score: 95.10, test score: 90.12\n",
      "Episode 17 - epsilon: 0.66, memory size: 1465, num steps: 27, training score: 92.67, test score: 93.11\n",
      "Episode 18 - epsilon: 0.64, memory size: 1527, num steps: 62, training score: 89.72, test score: 94.45\n",
      "Episode 19 - epsilon: 0.62, memory size: 1579, num steps: 52, training score: 93.28, test score: 97.13\n",
      "Episode 20 - epsilon: 0.60, memory size: 1660, num steps: 81, training score: 86.33, test score: 96.23\n",
      "Episode 21 - epsilon: 0.58, memory size: 1706, num steps: 46, training score: 90.47, test score: 96.90\n",
      "Episode 22 - epsilon: 0.56, memory size: 1748, num steps: 42, training score: 91.38, test score: 94.83\n",
      "Episode 23 - epsilon: 0.54, memory size: 1776, num steps: 28, training score: 93.37, test score: 95.29\n",
      "Episode 24 - epsilon: 0.52, memory size: 1805, num steps: 29, training score: 92.35, test score: 96.17\n",
      "Episode 25 - epsilon: 0.50, memory size: 1828, num steps: 23, training score: 94.29, test score: 94.68\n",
      "Episode 26 - epsilon: 0.48, memory size: 1866, num steps: 38, training score: 91.48, test score: 95.58\n",
      "Episode 27 - epsilon: 0.46, memory size: 1902, num steps: 36, training score: 95.20, test score: 95.44\n",
      "Episode 28 - epsilon: 0.44, memory size: 1925, num steps: 23, training score: 95.23, test score: 91.67\n",
      "Episode 29 - epsilon: 0.42, memory size: 1948, num steps: 23, training score: 93.64, test score: 92.06\n",
      "Episode 30 - epsilon: 0.40, memory size: 1974, num steps: 26, training score: 94.56, test score: 91.95\n",
      "Episode 31 - epsilon: 0.38, memory size: 2035, num steps: 61, training score: 86.71, test score: 91.85\n",
      "Episode 32 - epsilon: 0.36, memory size: 2100, num steps: 65, training score: 88.44, test score: 94.20\n",
      "Episode 33 - epsilon: 0.34, memory size: 2125, num steps: 25, training score: 94.52, test score: 91.05\n",
      "Episode 34 - epsilon: 0.32, memory size: 2149, num steps: 24, training score: 94.67, test score: 91.42\n",
      "Episode 35 - epsilon: 0.30, memory size: 2187, num steps: 38, training score: 93.74, test score: 91.82\n",
      "Episode 36 - epsilon: 0.28, memory size: 2211, num steps: 24, training score: 94.01, test score: 91.78\n",
      "Episode 37 - epsilon: 0.26, memory size: 2249, num steps: 38, training score: 91.21, test score: 92.30\n",
      "Episode 38 - epsilon: 0.24, memory size: 2272, num steps: 23, training score: 95.87, test score: 92.27\n",
      "Episode 39 - epsilon: 0.22, memory size: 2295, num steps: 23, training score: 93.84, test score: 92.03\n",
      "Episode 40 - epsilon: 0.20, memory size: 2317, num steps: 22, training score: 94.32, test score: 94.25\n",
      "Episode 41 - epsilon: 0.18, memory size: 2340, num steps: 23, training score: 94.94, test score: 94.81\n",
      "Episode 42 - epsilon: 0.16, memory size: 2363, num steps: 23, training score: 94.69, test score: 94.35\n",
      "Episode 43 - epsilon: 0.14, memory size: 2386, num steps: 23, training score: 94.23, test score: 94.32\n",
      "Episode 44 - epsilon: 0.12, memory size: 2408, num steps: 22, training score: 94.13, test score: 95.16\n",
      "Episode 45 - epsilon: 0.10, memory size: 2431, num steps: 23, training score: 94.25, test score: 94.86\n",
      "Episode 46 - epsilon: 0.08, memory size: 2454, num steps: 23, training score: 93.75, test score: 95.01\n",
      "Episode 47 - epsilon: 0.06, memory size: 2477, num steps: 23, training score: 93.69, test score: 94.96\n",
      "Episode 48 - epsilon: 0.04, memory size: 2500, num steps: 23, training score: 93.79, test score: 94.40\n",
      "Episode 49 - epsilon: 0.02, memory size: 2527, num steps: 27, training score: 93.98, test score: 95.10\n",
      "Episode 50 - epsilon: 0.00, memory size: 2552, num steps: 25, training score: 95.10, test score: 94.15\n"
     ]
    }
   ],
   "source": [
    "agent.train_n_episodes(50, eps=1, eps_decay=1/50, action_repeat=5, \n",
    "                       run_tests=True, gen_q_a_frames_every_n_steps=10, )"
   ]
  },
  {
   "cell_type": "code",
   "execution_count": 7,
   "metadata": {},
   "outputs": [
    {
     "name": "stdout",
     "output_type": "stream",
     "text": [
      "Using ffmpeg at '/Users/sam/mlenv/lib/python3.6/site-packages/imageio_ffmpeg/binaries/ffmpeg-osx64-v4.1'.\n",
      "Video saved to training_animation_1561598017.mp4.\n"
     ]
    },
    {
     "data": {
      "text/html": [
       "<video alt=\"training animation\" controls loop autoplay>\n",
       "                        <source src=\"training_animation_1561598017.mp4\" type=\"video/mp4\" />\n",
       "                     </video>"
      ],
      "text/plain": [
       "<IPython.core.display.HTML object>"
      ]
     },
     "metadata": {},
     "output_type": "display_data"
    }
   ],
   "source": [
    "create_animation(agent, display_mode='video_file', every_n_steps=10, fps=15)"
   ]
  },
  {
   "cell_type": "code",
   "execution_count": null,
   "metadata": {},
   "outputs": [],
   "source": []
  }
 ],
 "metadata": {
  "kernelspec": {
   "display_name": "Python 3",
   "language": "python",
   "name": "python3"
  },
  "language_info": {
   "codemirror_mode": {
    "name": "ipython",
    "version": 3
   },
   "file_extension": ".py",
   "mimetype": "text/x-python",
   "name": "python",
   "nbconvert_exporter": "python",
   "pygments_lexer": "ipython3",
   "version": "3.6.4"
  }
 },
 "nbformat": 4,
 "nbformat_minor": 2
}
